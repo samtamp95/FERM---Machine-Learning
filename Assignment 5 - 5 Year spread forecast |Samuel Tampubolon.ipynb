{
 "cells": [
  {
   "cell_type": "code",
   "execution_count": 1,
   "metadata": {},
   "outputs": [
    {
     "name": "stderr",
     "output_type": "stream",
     "text": [
      "C:\\Users\\Administrator\\Anaconda3\\lib\\site-packages\\ipykernel_launcher.py:19: SettingWithCopyWarning: \n",
      "A value is trying to be set on a copy of a slice from a DataFrame\n",
      "\n",
      "See the caveats in the documentation: http://pandas.pydata.org/pandas-docs/stable/indexing.html#indexing-view-versus-copy\n",
      "C:\\Users\\Administrator\\Anaconda3\\lib\\site-packages\\ipykernel_launcher.py:21: SettingWithCopyWarning: \n",
      "A value is trying to be set on a copy of a slice from a DataFrame\n",
      "\n",
      "See the caveats in the documentation: http://pandas.pydata.org/pandas-docs/stable/indexing.html#indexing-view-versus-copy\n",
      "C:\\Users\\Administrator\\Anaconda3\\lib\\site-packages\\ipykernel_launcher.py:23: SettingWithCopyWarning: \n",
      "A value is trying to be set on a copy of a slice from a DataFrame\n",
      "\n",
      "See the caveats in the documentation: http://pandas.pydata.org/pandas-docs/stable/indexing.html#indexing-view-versus-copy\n",
      "C:\\Users\\Administrator\\Anaconda3\\lib\\site-packages\\ipykernel_launcher.py:25: SettingWithCopyWarning: \n",
      "A value is trying to be set on a copy of a slice from a DataFrame\n",
      "\n",
      "See the caveats in the documentation: http://pandas.pydata.org/pandas-docs/stable/indexing.html#indexing-view-versus-copy\n",
      "C:\\Users\\Administrator\\Anaconda3\\lib\\site-packages\\IPython\\core\\interactiveshell.py:2785: DtypeWarning: Columns (2,33,37,654,655,656,657,661,675,676,686) have mixed types. Specify dtype option on import or set low_memory=False.\n",
      "  interactivity=interactivity, compiler=compiler, result=result)\n",
      "C:\\Users\\Administrator\\Anaconda3\\lib\\site-packages\\ipykernel_launcher.py:58: SettingWithCopyWarning: \n",
      "A value is trying to be set on a copy of a slice from a DataFrame\n",
      "\n",
      "See the caveats in the documentation: http://pandas.pydata.org/pandas-docs/stable/indexing.html#indexing-view-versus-copy\n",
      "C:\\Users\\Administrator\\Anaconda3\\lib\\site-packages\\ipykernel_launcher.py:60: SettingWithCopyWarning: \n",
      "A value is trying to be set on a copy of a slice from a DataFrame\n",
      "\n",
      "See the caveats in the documentation: http://pandas.pydata.org/pandas-docs/stable/indexing.html#indexing-view-versus-copy\n",
      "C:\\Users\\Administrator\\Anaconda3\\lib\\site-packages\\ipykernel_launcher.py:62: SettingWithCopyWarning: \n",
      "A value is trying to be set on a copy of a slice from a DataFrame\n",
      "\n",
      "See the caveats in the documentation: http://pandas.pydata.org/pandas-docs/stable/indexing.html#indexing-view-versus-copy\n",
      "C:\\Users\\Administrator\\Anaconda3\\lib\\site-packages\\ipykernel_launcher.py:64: SettingWithCopyWarning: \n",
      "A value is trying to be set on a copy of a slice from a DataFrame\n",
      "\n",
      "See the caveats in the documentation: http://pandas.pydata.org/pandas-docs/stable/indexing.html#indexing-view-versus-copy\n"
     ]
    }
   ],
   "source": [
    "\n",
    "import pandas as pd\n",
    "#get cds data\n",
    "df = pd.read_stata('cds_spread5y_2001_2016.dta')\n",
    "\n",
    "#separating the dates\n",
    "df['Date'] = pd.to_datetime(df['mdate'])\n",
    "\n",
    "#separating the months\n",
    "df['Month'] = df['Date'].dt.month\n",
    "\n",
    "#seperating the years\n",
    "df['Year'] = df['Date'].dt.year\n",
    "\n",
    "\n",
    "# Set a default value\n",
    "df['Quarter'] = '4'\n",
    "#Quarter if above 9 months will be at quarter 4\n",
    "df['Quarter'][df['Month'] > 9] = '4'\n",
    "#setting for quarter 3\n",
    "df['Quarter'][(df['Month'] > 6) & (df['Month'] <= 9)] = '3'\n",
    "#setting for quater 2\n",
    "df['Quarter'][(df['Month'] > 3) & (df['Month'] <= 6)] = '2'\n",
    "#setting for quater 1\n",
    "df['Quarter'][df['Month'] <= 3] = '1'\n",
    "\n",
    "#changing columns to float so that it can be connected to\n",
    "df['gvkey'] = df['gvkey'].astype(float)\n",
    "\n",
    "df['Quarter'] = df['Quarter'].astype(float)\n",
    "\n",
    "df['Year'] = df['Year'].astype(float)\n",
    "\n",
    "\n",
    "#get company data\n",
    "Company = pd.read_csv(\"Quarterly Merged CRSP-Compustat.csv\")\n",
    "\n",
    "#changing columns to something similar\n",
    "Company=Company.rename(columns = {'datadate':'mdate'})\n",
    "Company=Company.rename(columns = {'GVKEY':'gvkey'})\n",
    "\n",
    "\n",
    "\n",
    "#separating the dates\n",
    "Company['Date'] = pd.to_datetime(Company['mdate'])\n",
    "\n",
    "#separating the months\n",
    "Company['Month'] = Company['Date'].dt.month\n",
    "\n",
    "#seperating the years\n",
    "Company['Year'] = Company['Date'].dt.year\n",
    "\n",
    "\n",
    "\n",
    "# Making values to merge the dataframe\n",
    "Company['Quarter'] = '4'\n",
    "#Quarter if above 9 months will be at quarter 4\n",
    "Company['Quarter'][Company['Month'] > 9] = '4'\n",
    "#setting for quarter 3\n",
    "Company['Quarter'][(Company['Month'] > 6) & (Company['Month'] <= 9)] = '3'\n",
    "#setting for quater 2\n",
    "Company['Quarter'][(Company['Month'] > 3) & (Company['Month'] <= 6)] = '2'\n",
    "#setting for quater 1\n",
    "Company['Quarter'][Company['Month'] <= 3] = '1'\n",
    "\n",
    "#changing columns to float so that it can be connected to\n",
    "Company['gvkey'] = Company['gvkey'].astype(float)\n",
    "\n",
    "Company['Quarter'] = Company['Quarter'].astype(float)\n",
    "\n",
    "Company['Year'] = Company['Year'].astype(float)\n",
    "\n",
    "\n",
    "\n",
    "#merging the data \n",
    "Data_Take=pd.merge(Company, df, on=['gvkey', 'Quarter','Year'])\n"
   ]
  },
  {
   "cell_type": "code",
   "execution_count": 2,
   "metadata": {},
   "outputs": [],
   "source": [
    "#assignment 5\n",
    "\n",
    "'''Filtering and splitting data'''\n",
    "#keep numerical columns\n",
    "numerics = ['int16', 'int32', 'int64', 'float16', 'float32', 'float64']\n",
    "Data_Take = Data_Take.select_dtypes(include=numerics)\n",
    "\n",
    "#fill in for median\n",
    "Data_Take=Data_Take.fillna(Data_Take.median())\n",
    "\n",
    "#drop columns with na\n",
    "Data_Take=Data_Take.dropna(axis=1, how='any')\n",
    "\n",
    "#grab test data\n",
    "Data_Test = Data_Take[(Data_Take['Year'] >= 2016) & (Data_Take['Year'] <= 2018)]\n",
    "\n",
    "#splitting x and y for test data\n",
    "X_test= Data_Test.drop('spread5y', axis=1)\n",
    "y_test=Data_Test['spread5y']\n",
    "#deleting unnecessary features\n",
    "X_test= X_test.drop('Month_x', axis=1)\n",
    "X_test= X_test.drop('Month_y', axis=1)\n",
    "X_test= X_test.drop('Quarter', axis=1)\n",
    "X_test= X_test.drop('Year', axis=1)\n",
    "X_test= X_test.drop('gvkey', axis=1)\n",
    "\n",
    "#training data\n",
    "Data_Train=Data_Take[(Data_Take['Year'] < 2016)]\n",
    "\n",
    "#splitting x and y for test data\n",
    "X_train= Data_Train.drop('spread5y', axis=1)\n",
    "y_train=Data_Train['spread5y']\n",
    "X_train= X_train.drop('Month_x', axis=1)\n",
    "X_train= X_train.drop('Month_y', axis=1)\n",
    "X_train= X_train.drop('Quarter', axis=1)\n",
    "X_train= X_train.drop('Year', axis=1)\n",
    "X_train= X_train.drop('gvkey', axis=1)\n"
   ]
  },
  {
   "cell_type": "code",
   "execution_count": 3,
   "metadata": {},
   "outputs": [
    {
     "name": "stderr",
     "output_type": "stream",
     "text": [
      "C:\\Users\\Administrator\\Anaconda3\\lib\\site-packages\\sklearn\\ensemble\\weight_boosting.py:29: DeprecationWarning: numpy.core.umath_tests is an internal NumPy module and should not be imported. It will be removed in a future NumPy release.\n",
      "  from numpy.core.umath_tests import inner1d\n"
     ]
    }
   ],
   "source": [
    "'''RUNNING FIRST MODEL '''\n",
    "## Import the random forest model.\n",
    "from sklearn.ensemble import RandomForestRegressor \n",
    "## This line instantiates the model. \n",
    "rf = RandomForestRegressor(n_estimators=50) \n",
    "## Fit the model on your training data.\n",
    "rf.fit(X_train, y_train) \n",
    "## And score it on your testing data.\n",
    "rf.score(X_test, y_test)\n",
    "\n",
    "rf_50=rf.predict(X_test)"
   ]
  },
  {
   "cell_type": "code",
   "execution_count": 4,
   "metadata": {},
   "outputs": [],
   "source": [
    "''' Filter Obtain only 50 top Important Feautres'''\n",
    "#finding the importance\n",
    "feature_importances=rf.feature_importances_\n",
    "\n",
    "feature_importances = pd.DataFrame(rf.feature_importances_,\n",
    "                                   index = X_train.columns,\n",
    "                                    columns=['importance']).sort_values('importance',ascending=False)\n",
    "top_50=feature_importances.iloc[:50,:]\n",
    "top_50=top_50.index.tolist()\n",
    "\n",
    "from sklearn.metrics import  mean_squared_error\n",
    "import numpy as np\n",
    "\n",
    "def mean_absolute_percentage_error(y_true, y_pred): \n",
    "    y_true, y_pred = np.array(y_true), np.array(y_pred)\n",
    "    return np.mean(np.abs((y_true - y_pred) / y_true)) * 100\n",
    "\n",
    "mean_squared_error(y_test,rf_50)\n",
    "mean_absolute_percentage_error(y_test, rf_50)\n",
    "\n",
    "#filtering only for the needed data\n",
    "Filtered_X_train=X_train[top_50]\n",
    "Filtered_X_test=X_test[top_50]\n"
   ]
  },
  {
   "cell_type": "code",
   "execution_count": 5,
   "metadata": {},
   "outputs": [
    {
     "data": {
      "text/plain": [
       "0.001304716251353163"
      ]
     },
     "execution_count": 5,
     "metadata": {},
     "output_type": "execute_result"
    }
   ],
   "source": [
    "\n",
    "\"\"\"         RANDOM FOREST              \"\"\"\n",
    "#random forest regressor 100\n",
    "rf_100 = RandomForestRegressor(n_estimators=100) \n",
    "rf_100.fit(Filtered_X_train, y_train)\n",
    "rf_100_pred=rf_100.predict(Filtered_X_test)\n",
    "\n",
    "\n",
    "mab_rf_100=mean_absolute_percentage_error(y_test, rf_100_pred)\n",
    "mab_rf_100\n",
    "mse_rf_100=mean_squared_error(y_test,rf_100_pred)\n",
    "mse_rf_100\n",
    "\n",
    "\n",
    "#random forest regressor 200\n",
    "rf_200 = RandomForestRegressor(n_estimators=200) \n",
    "rf_200.fit(Filtered_X_train, y_train)\n",
    "rf_200_pred=rf_200.predict(Filtered_X_test)\n",
    "\n",
    "\n",
    "mab_rf_200=mean_absolute_percentage_error(y_test, rf_200_pred)\n",
    "mab_rf_200\n",
    "mse_rf_200=mean_squared_error(y_test,rf_200_pred)\n",
    "mse_rf_200\n",
    "\n",
    "\n",
    "#random forest regressor 500\n",
    "rf_500 = RandomForestRegressor(n_estimators=500) \n",
    "rf_500.fit(Filtered_X_train, y_train)\n",
    "rf_500_pred=rf_500.predict(Filtered_X_test)\n",
    "\n",
    "\n",
    "mab_rf_500=mean_absolute_percentage_error(y_test, rf_500_pred)\n",
    "mab_rf_500\n",
    "mse_rf_500=mean_squared_error(y_test,rf_500_pred)\n",
    "mse_rf_500\n",
    "\n",
    "#random forest regressor 500\n",
    "rf_1000 = RandomForestRegressor(n_estimators=1000) \n",
    "rf_1000.fit(Filtered_X_train, y_train)\n",
    "rf_1000_pred=rf_1000.predict(Filtered_X_test)\n",
    "\n",
    "\n",
    "mab_rf_1000=mean_absolute_percentage_error(y_test, rf_1000_pred)\n",
    "mab_rf_1000\n",
    "mse_rf_1000=mean_squared_error(y_test,rf_1000_pred)\n",
    "mse_rf_1000\n"
   ]
  },
  {
   "cell_type": "code",
   "execution_count": 8,
   "metadata": {},
   "outputs": [
    {
     "data": {
      "text/plain": [
       "0.001244415891357143"
      ]
     },
     "execution_count": 8,
     "metadata": {},
     "output_type": "execute_result"
    }
   ],
   "source": [
    "\"\"\"         GRADIENT BOOSTING              \"\"\"\n",
    "from sklearn.ensemble import GradientBoostingRegressor \n",
    "#GRADIENT BOOSTING 100\n",
    "gbr_100 = GradientBoostingRegressor(n_estimators=100) \n",
    "gbr_100.fit(Filtered_X_train, y_train)\n",
    "gbr_100_pred=gbr_100.predict(Filtered_X_test)\n",
    "\n",
    "\n",
    "mab_gbr_100=mean_absolute_percentage_error(y_test, gbr_100_pred)\n",
    "mab_gbr_100\n",
    "mse_gbr_100=mean_squared_error(y_test,gbr_100_pred)\n",
    "mse_gbr_100\n",
    "\n",
    "#GRADIENT BOOSTING 200\n",
    "gbr_200 = GradientBoostingRegressor(n_estimators=200) \n",
    "gbr_200.fit(Filtered_X_train, y_train)\n",
    "gbr_200_pred=gbr_200.predict(Filtered_X_test)\n",
    "\n",
    "\n",
    "mab_gbr_200=mean_absolute_percentage_error(y_test, gbr_200_pred)\n",
    "mab_gbr_200\n",
    "mse_gbr_200=mean_squared_error(y_test,gbr_200_pred)\n",
    "mse_gbr_200\n",
    "\n",
    "#GRADIENT BOOSTING 500\n",
    "gbr_500 = GradientBoostingRegressor(n_estimators=500) \n",
    "gbr_500.fit(Filtered_X_train, y_train)\n",
    "gbr_500_pred=gbr_500.predict(Filtered_X_test)\n",
    "\n",
    "\n",
    "mab_gbr_500=mean_absolute_percentage_error(y_test, gbr_500_pred)\n",
    "mab_gbr_500\n",
    "mse_gbr_500=mean_squared_error(y_test,gbr_500_pred)\n",
    "mse_gbr_500\n",
    "\n",
    "\n",
    "#GRADIENT BOOSTING 1000\n",
    "gbr_1000 = GradientBoostingRegressor(n_estimators=1000) \n",
    "gbr_1000.fit(Filtered_X_train, y_train)\n",
    "gbr_1000_pred=gbr_1000.predict(Filtered_X_test)\n",
    "\n",
    "\n",
    "mab_gbr_1000=mean_absolute_percentage_error(y_test, gbr_1000_pred)\n",
    "mab_gbr_1000\n",
    "mse_gbr_1000=mean_squared_error(y_test,gbr_1000_pred)\n",
    "mse_gbr_1000"
   ]
  },
  {
   "cell_type": "code",
   "execution_count": 9,
   "metadata": {},
   "outputs": [
    {
     "data": {
      "text/plain": [
       "0.0012676836036026665"
      ]
     },
     "execution_count": 9,
     "metadata": {},
     "output_type": "execute_result"
    }
   ],
   "source": [
    "\"\"\"Xgboost Modeling \"\"\"\n",
    "import xgboost as xgb\n",
    "\n",
    "xgb_100 = xgb.XGBRegressor(objective ='reg:linear',n_estimators = 100)\n",
    "xgb_200 = xgb.XGBRegressor(objective ='reg:linear',n_estimators = 200)\n",
    "xgb_500 = xgb.XGBRegressor(objective ='reg:linear',n_estimators = 500)\n",
    "xgb_1000 = xgb.XGBRegressor(objective ='reg:linear',n_estimators = 1000)\n",
    "\n",
    "xgb_fit_100 = xgb_100.fit(Filtered_X_train, y_train)\n",
    "xgb_fit_200 = xgb_200.fit(Filtered_X_train, y_train)\n",
    "xgb_fit_500 = xgb_500.fit(Filtered_X_train, y_train)\n",
    "xgb_fit_1000 = xgb_1000.fit(Filtered_X_train, y_train)\n",
    "\n",
    "xgb100_pred = xgb_fit_100.predict(Filtered_X_test)  \n",
    "xgb200_pred = xgb_fit_200.predict(Filtered_X_test)\n",
    "xgb500_pred = xgb_fit_500.predict(Filtered_X_test)  \n",
    "xgb1000_pred = xgb_fit_1000.predict(Filtered_X_test)\n",
    "\n",
    "#absolute percentage error & mean squared error of predicition\n",
    "mab_xgb_100=mean_absolute_percentage_error(y_test, xgb100_pred)\n",
    "mab_xgb_100\n",
    "mse_xgb_100=mean_squared_error(y_test,xgb100_pred)\n",
    "mse_xgb_100\n",
    "\n",
    "mab_xgb_200=mean_absolute_percentage_error(y_test, xgb200_pred)\n",
    "mab_xgb_200\n",
    "mse_xgb_200=mean_squared_error(y_test,xgb200_pred)\n",
    "mse_xgb_200\n",
    "\n",
    "mab_xgb_500=mean_absolute_percentage_error(y_test, xgb500_pred)\n",
    "mab_xgb_500\n",
    "mse_xgb_500=mean_squared_error(y_test,xgb500_pred)\n",
    "mab_xgb_500\n",
    "\n",
    "mab_xgb_1000=mean_absolute_percentage_error(y_test, xgb1000_pred)\n",
    "mab_xgb_1000\n",
    "mse_xgb_1000=mean_squared_error(y_test,xgb1000_pred)\n",
    "mse_xgb_1000"
   ]
  },
  {
   "cell_type": "code",
   "execution_count": 10,
   "metadata": {},
   "outputs": [
    {
     "name": "stdout",
     "output_type": "stream",
     "text": [
      "Mean Squared Error for RandomForest with 100 trees:  0.0014624109281006247\n",
      "Mean Squared Error for RandomForest with 200 trees:  0.0012632642445989403\n",
      "Mean Squared Error for RandomForest with 500 trees:  0.0012600538590495254\n",
      "Mean Squared Error for RandomForest with 1000 trees:  0.001304716251353163\n",
      "Mean Absolute Percentage for RandomForest with 100 trees:  42.61058667549039\n",
      "Mean Absolute Percentage for RandomForest with 200 trees:  41.300394753453915\n",
      "Mean Absolute Percentage for RandomForest with 500 trees:  40.988726760532536\n",
      "Mean Absolute Percentage for RandomForest with 1000 trees:  41.48377674674561\n"
     ]
    }
   ],
   "source": [
    "#MSE Results and Plot\n",
    "'''MSE & MAPE RandomForest'''\n",
    "print('Mean Squared Error for RandomForest with 100 trees: ', mse_rf_100)\n",
    "print('Mean Squared Error for RandomForest with 200 trees: ', mse_rf_200)\n",
    "print('Mean Squared Error for RandomForest with 500 trees: ', mse_rf_500)\n",
    "print('Mean Squared Error for RandomForest with 1000 trees: ', mse_rf_1000)\n",
    "\n",
    "mse_rf_list=[]\n",
    "mse_rf_list.append(mse_rf_100)\n",
    "mse_rf_list.append(mse_rf_200)\n",
    "mse_rf_list.append(mse_rf_500)\n",
    "mse_rf_list.append(mse_rf_1000)\n",
    "\n",
    "print('Mean Absolute Percentage for RandomForest with 100 trees: ', mab_rf_100)\n",
    "print('Mean Absolute Percentage for RandomForest with 200 trees: ', mab_rf_200)\n",
    "print('Mean Absolute Percentage for RandomForest with 500 trees: ', mab_rf_500)\n",
    "print('Mean Absolute Percentage for RandomForest with 1000 trees: ', mab_rf_1000)\n",
    "\n",
    "mab_rf_list=[]\n",
    "mab_rf_list.append(mab_rf_100)\n",
    "mab_rf_list.append(mab_rf_200)\n",
    "mab_rf_list.append(mab_rf_500)\n",
    "mab_rf_list.append(mab_rf_1000)"
   ]
  },
  {
   "cell_type": "code",
   "execution_count": 11,
   "metadata": {},
   "outputs": [
    {
     "name": "stdout",
     "output_type": "stream",
     "text": [
      "Mean Squared Error for Xgboost with 100 trees:  0.0014226631888285526\n",
      "Mean Squared Error for Xgboost with 200 trees:  0.0013391048727535576\n",
      "Mean Squared Error for Xgboost with 500 trees:  0.0012879624905743595\n",
      "Mean Squared Error for Xgboost with 1000 trees:  0.0012676836036026665\n",
      "Mean Absolute Percentage for Xgboost with 100 trees:  81.55608738738482\n",
      "Mean Absolute Percentage for Xgboost with 200 trees:  72.19241206241843\n",
      "Mean Absolute Percentage for Xgboost with 500 trees:  61.35833801034186\n",
      "Mean Absolute Percentage for Xgboost with 1000 trees:  56.76927270519631\n"
     ]
    }
   ],
   "source": [
    "'''MSE & MAPE Xgboost'''\n",
    "print('Mean Squared Error for Xgboost with 100 trees: ', mse_xgb_100)\n",
    "print('Mean Squared Error for Xgboost with 200 trees: ', mse_xgb_200)\n",
    "print('Mean Squared Error for Xgboost with 500 trees: ', mse_xgb_500)\n",
    "print('Mean Squared Error for Xgboost with 1000 trees: ', mse_xgb_1000)\n",
    "\n",
    "\n",
    "mse_xgb_list=[]\n",
    "mse_xgb_list.append(mse_xgb_100)\n",
    "mse_xgb_list.append(mse_xgb_200)\n",
    "mse_xgb_list.append(mse_xgb_500)\n",
    "mse_xgb_list.append(mse_xgb_1000)\n",
    "\n",
    "print('Mean Absolute Percentage for Xgboost with 100 trees: ', mab_xgb_100)\n",
    "print('Mean Absolute Percentage for Xgboost with 200 trees: ', mab_xgb_200)\n",
    "print('Mean Absolute Percentage for Xgboost with 500 trees: ', mab_xgb_500)\n",
    "print('Mean Absolute Percentage for Xgboost with 1000 trees: ', mab_xgb_1000)\n",
    "\n",
    "\n",
    "mab_xgb_list=[]\n",
    "mab_xgb_list.append(mab_xgb_100)\n",
    "mab_xgb_list.append(mab_xgb_200)\n",
    "mab_xgb_list.append(mab_xgb_500)\n",
    "mab_xgb_list.append(mab_xgb_1000)\n"
   ]
  },
  {
   "cell_type": "code",
   "execution_count": 14,
   "metadata": {},
   "outputs": [
    {
     "name": "stdout",
     "output_type": "stream",
     "text": [
      "Mean Squared Error for GradientBoosting with 100 trees:  0.001400209509533599\n",
      "Mean Squared Error for GradientBoosting with 200 trees:  0.0013030323244608245\n",
      "Mean Squared Error for GradientBoosting with 500 trees:  0.001244415891357143\n",
      "Mean Squared Error for GradientBoosting with 1000 trees:  0.001244415891357143\n",
      "Mean Absolute Percentage for GradientBoosting with 100 trees:  80.91699851567076\n",
      "Mean Absolute Percentage for GradientBoosting with 200 trees:  70.5087962183516\n",
      "Mean Absolute Percentage for GradientBoosting with 500 trees:  60.932274491493374\n",
      "Mean Absolute Percentage for GradientBoosting with 1000 trees:  58.057714540746105\n"
     ]
    }
   ],
   "source": [
    "'''MSE & MAPE GradientBoosting'''\n",
    "mab_gbr_1000=mean_absolute_percentage_error(y_test, gbr_1000_pred)\n",
    "mab_gbr_1000\n",
    "mse_gbr_1000=mean_squared_error(y_test,gbr_1000_pred)\n",
    "mse_gbr_1000\n",
    "\n",
    "print('Mean Squared Error for GradientBoosting with 100 trees: ', mse_gbr_100)\n",
    "print('Mean Squared Error for GradientBoosting with 200 trees: ', mse_gbr_200)\n",
    "print('Mean Squared Error for GradientBoosting with 500 trees: ', mse_gbr_500)\n",
    "print('Mean Squared Error for GradientBoosting with 1000 trees: ', mse_gbr_1000)\n",
    "\n",
    "mse_gbr_list=[]\n",
    "mse_gbr_list.append(mse_gbr_100)\n",
    "mse_gbr_list.append(mse_gbr_200)\n",
    "mse_gbr_list.append(mse_gbr_500)\n",
    "mse_gbr_list.append(mse_gbr_1000)\n",
    "\n",
    "\n",
    "print('Mean Absolute Percentage for GradientBoosting with 100 trees: ', mab_gbr_100)\n",
    "print('Mean Absolute Percentage for GradientBoosting with 200 trees: ', mab_gbr_200)\n",
    "print('Mean Absolute Percentage for GradientBoosting with 500 trees: ', mab_gbr_500)\n",
    "print('Mean Absolute Percentage for GradientBoosting with 1000 trees: ', mab_gbr_1000)\n",
    "\n",
    "\n",
    "mab_gbr_list=[]\n",
    "mab_gbr_list.append(mab_gbr_100)\n",
    "mab_gbr_list.append(mab_gbr_200)\n",
    "mab_gbr_list.append(mab_gbr_500)\n",
    "mab_gbr_list.append(mab_gbr_1000)"
   ]
  },
  {
   "cell_type": "code",
   "execution_count": 18,
   "metadata": {},
   "outputs": [
    {
     "data": {
      "image/png": "[encoded data removed]",
      "text/plain": [
       "<Figure size 432x288 with 1 Axes>"
      ]
     },
     "metadata": {
      "needs_background": "light"
     },
     "output_type": "display_data"
    }
   ],
   "source": [
    "''' Ploting Mean Square Error'''\n",
    "import pylab\n",
    "tree=[100,200,500,1000]\n",
    "\n",
    "pylab.plot(tree,mse_rf_list,label='RandomForest')\n",
    "pylab.plot(tree,mse_gbr_list,label='GradientBoosting' )\n",
    "pylab.plot(tree,mse_xgb_list,label='Xgboost')\n",
    "pylab.legend(loc='upper right')\n",
    "pylab.ylabel('Mean square Error')\n",
    "pylab.xlabel('Number of Trees')\n",
    "pylab.show()\n",
    "\n"
   ]
  },
  {
   "cell_type": "code",
   "execution_count": 19,
   "metadata": {},
   "outputs": [
    {
     "data": {
      "image/png": "[encoded data removed]",
      "text/plain": [
       "<Figure size 432x288 with 1 Axes>"
      ]
     },
     "metadata": {
      "needs_background": "light"
     },
     "output_type": "display_data"
    }
   ],
   "source": [
    "''' Ploting Mean Absolute Percentage Error'''\n",
    "import pylab\n",
    "tree=[100,200,500,1000]\n",
    "\n",
    "pylab.plot(tree,mab_rf_list,label='RandomForest')\n",
    "pylab.plot(tree,mab_gbr_list,label='GradientBoosting' )\n",
    "pylab.plot(tree,mab_xgb_list,label='Xgboost')\n",
    "pylab.legend(loc='upper right')\n",
    "pylab.ylabel(' Mean Absolute Percentage Error')\n",
    "pylab.xlabel('Number of Trees')\n",
    "pylab.show()"
   ]
  },
  {
   "cell_type": "code",
   "execution_count": null,
   "metadata": {},
   "outputs": [],
   "source": []
  }
 ],
 "metadata": {
  "kernelspec": {
   "display_name": "Python 3",
   "language": "python",
   "name": "python3"
  },
  "language_info": {
   "codemirror_mode": {
    "name": "ipython",
    "version": 3
   },
   "file_extension": ".py",
   "mimetype": "text/x-python",
   "name": "python",
   "nbconvert_exporter": "python",
   "pygments_lexer": "ipython3",
   "version": "3.7.0"
  }
 },
 "nbformat": 4,
 "nbformat_minor": 2
}
